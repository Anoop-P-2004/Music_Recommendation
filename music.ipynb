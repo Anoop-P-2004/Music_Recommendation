{
 "cells": [
  {
   "cell_type": "markdown",
   "metadata": {},
   "source": [
    "# MUSIC RECOMMENDATION SYSTEM USING CONTENT-BASED FILTERING"
   ]
  },
  {
   "cell_type": "markdown",
   "metadata": {},
   "source": [
    "## IMPORTING NECESSARY LIBRARIES"
   ]
  },
  {
   "cell_type": "code",
   "execution_count": 1,
   "metadata": {},
   "outputs": [],
   "source": [
    "import numpy as np\n",
    "import pandas as pd\n",
    "from sklearn.feature_extraction.text import TfidfVectorizer\n",
    "from sklearn.metrics.pairwise import cosine_similarity\n",
    "import pickle"
   ]
  },
  {
   "cell_type": "code",
   "execution_count": 2,
   "metadata": {},
   "outputs": [
    {
     "data": {
      "text/html": [
       "<div>\n",
       "<style scoped>\n",
       "    .dataframe tbody tr th:only-of-type {\n",
       "        vertical-align: middle;\n",
       "    }\n",
       "\n",
       "    .dataframe tbody tr th {\n",
       "        vertical-align: top;\n",
       "    }\n",
       "\n",
       "    .dataframe thead th {\n",
       "        text-align: right;\n",
       "    }\n",
       "</style>\n",
       "<table border=\"1\" class=\"dataframe\">\n",
       "  <thead>\n",
       "    <tr style=\"text-align: right;\">\n",
       "      <th></th>\n",
       "      <th>artist</th>\n",
       "      <th>song</th>\n",
       "      <th>link</th>\n",
       "      <th>text</th>\n",
       "    </tr>\n",
       "  </thead>\n",
       "  <tbody>\n",
       "    <tr>\n",
       "      <th>0</th>\n",
       "      <td>ABBA</td>\n",
       "      <td>Ahe's My Kind Of Girl</td>\n",
       "      <td>/a/abba/ahes+my+kind+of+girl_20598417.html</td>\n",
       "      <td>Look at her face, it's a wonderful face  \\r\\nA...</td>\n",
       "    </tr>\n",
       "    <tr>\n",
       "      <th>1</th>\n",
       "      <td>ABBA</td>\n",
       "      <td>Andante, Andante</td>\n",
       "      <td>/a/abba/andante+andante_20002708.html</td>\n",
       "      <td>Take it easy with me, please  \\r\\nTouch me gen...</td>\n",
       "    </tr>\n",
       "    <tr>\n",
       "      <th>2</th>\n",
       "      <td>ABBA</td>\n",
       "      <td>As Good As New</td>\n",
       "      <td>/a/abba/as+good+as+new_20003033.html</td>\n",
       "      <td>I'll never know why I had to go  \\r\\nWhy I had...</td>\n",
       "    </tr>\n",
       "    <tr>\n",
       "      <th>3</th>\n",
       "      <td>ABBA</td>\n",
       "      <td>Bang</td>\n",
       "      <td>/a/abba/bang_20598415.html</td>\n",
       "      <td>Making somebody happy is a question of give an...</td>\n",
       "    </tr>\n",
       "    <tr>\n",
       "      <th>4</th>\n",
       "      <td>ABBA</td>\n",
       "      <td>Bang-A-Boomerang</td>\n",
       "      <td>/a/abba/bang+a+boomerang_20002668.html</td>\n",
       "      <td>Making somebody happy is a question of give an...</td>\n",
       "    </tr>\n",
       "  </tbody>\n",
       "</table>\n",
       "</div>"
      ],
      "text/plain": [
       "  artist                   song                                        link  \\\n",
       "0   ABBA  Ahe's My Kind Of Girl  /a/abba/ahes+my+kind+of+girl_20598417.html   \n",
       "1   ABBA       Andante, Andante       /a/abba/andante+andante_20002708.html   \n",
       "2   ABBA         As Good As New        /a/abba/as+good+as+new_20003033.html   \n",
       "3   ABBA                   Bang                  /a/abba/bang_20598415.html   \n",
       "4   ABBA       Bang-A-Boomerang      /a/abba/bang+a+boomerang_20002668.html   \n",
       "\n",
       "                                                text  \n",
       "0  Look at her face, it's a wonderful face  \\r\\nA...  \n",
       "1  Take it easy with me, please  \\r\\nTouch me gen...  \n",
       "2  I'll never know why I had to go  \\r\\nWhy I had...  \n",
       "3  Making somebody happy is a question of give an...  \n",
       "4  Making somebody happy is a question of give an...  "
      ]
     },
     "execution_count": 2,
     "metadata": {},
     "output_type": "execute_result"
    }
   ],
   "source": [
    "df=pd.read_csv(\"spotify_millsongdata.csv\")\n",
    "df.head()"
   ]
  },
  {
   "cell_type": "markdown",
   "metadata": {},
   "source": [
    "## DATA PREPROCESSING"
   ]
  },
  {
   "cell_type": "code",
   "execution_count": 3,
   "metadata": {},
   "outputs": [
    {
     "name": "stdout",
     "output_type": "stream",
     "text": [
      "<class 'pandas.core.frame.DataFrame'>\n",
      "RangeIndex: 57650 entries, 0 to 57649\n",
      "Data columns (total 4 columns):\n",
      " #   Column  Non-Null Count  Dtype \n",
      "---  ------  --------------  ----- \n",
      " 0   artist  57650 non-null  object\n",
      " 1   song    57650 non-null  object\n",
      " 2   link    57650 non-null  object\n",
      " 3   text    57650 non-null  object\n",
      "dtypes: object(4)\n",
      "memory usage: 1.8+ MB\n"
     ]
    }
   ],
   "source": [
    "df.info()"
   ]
  },
  {
   "cell_type": "code",
   "execution_count": 4,
   "metadata": {},
   "outputs": [
    {
     "data": {
      "text/plain": [
       "artist    0\n",
       "song      0\n",
       "link      0\n",
       "text      0\n",
       "dtype: int64"
      ]
     },
     "execution_count": 4,
     "metadata": {},
     "output_type": "execute_result"
    }
   ],
   "source": [
    "df.isna().sum()"
   ]
  },
  {
   "cell_type": "markdown",
   "metadata": {},
   "source": [
    "Here we have around 50000 songs in dataset. This may make processing slow.Hence we will be only considering random 5000 songs.Also we will be removing the 'link' attribute since it has no effect on music recommendation."
   ]
  },
  {
   "cell_type": "code",
   "execution_count": 5,
   "metadata": {},
   "outputs": [
    {
     "data": {
      "text/html": [
       "<div>\n",
       "<style scoped>\n",
       "    .dataframe tbody tr th:only-of-type {\n",
       "        vertical-align: middle;\n",
       "    }\n",
       "\n",
       "    .dataframe tbody tr th {\n",
       "        vertical-align: top;\n",
       "    }\n",
       "\n",
       "    .dataframe thead th {\n",
       "        text-align: right;\n",
       "    }\n",
       "</style>\n",
       "<table border=\"1\" class=\"dataframe\">\n",
       "  <thead>\n",
       "    <tr style=\"text-align: right;\">\n",
       "      <th></th>\n",
       "      <th>artist</th>\n",
       "      <th>song</th>\n",
       "      <th>text</th>\n",
       "    </tr>\n",
       "  </thead>\n",
       "  <tbody>\n",
       "    <tr>\n",
       "      <th>0</th>\n",
       "      <td>LL Cool J</td>\n",
       "      <td>We're Gonna Make It</td>\n",
       "      <td>I know the Lord, will make a way  \\r\\nHe will ...</td>\n",
       "    </tr>\n",
       "    <tr>\n",
       "      <th>1</th>\n",
       "      <td>Josh Groban</td>\n",
       "      <td>She's Out Of My Life</td>\n",
       "      <td>She's out of my life  \\r\\nShe's out of my life...</td>\n",
       "    </tr>\n",
       "    <tr>\n",
       "      <th>2</th>\n",
       "      <td>Kirsty Maccoll</td>\n",
       "      <td>They Don't Know</td>\n",
       "      <td>(kirsty maccoll)  \\r\\nYou've been around for s...</td>\n",
       "    </tr>\n",
       "    <tr>\n",
       "      <th>3</th>\n",
       "      <td>The Jam</td>\n",
       "      <td>Smithers-Jones</td>\n",
       "      <td>Here we go again, it's Monday at last,  \\r\\nHe...</td>\n",
       "    </tr>\n",
       "    <tr>\n",
       "      <th>4</th>\n",
       "      <td>Green Day</td>\n",
       "      <td>American Idiot</td>\n",
       "      <td>Don't want to be an American idiot.  \\r\\nDon't...</td>\n",
       "    </tr>\n",
       "  </tbody>\n",
       "</table>\n",
       "</div>"
      ],
      "text/plain": [
       "           artist                  song  \\\n",
       "0       LL Cool J   We're Gonna Make It   \n",
       "1     Josh Groban  She's Out Of My Life   \n",
       "2  Kirsty Maccoll       They Don't Know   \n",
       "3         The Jam        Smithers-Jones   \n",
       "4       Green Day        American Idiot   \n",
       "\n",
       "                                                text  \n",
       "0  I know the Lord, will make a way  \\r\\nHe will ...  \n",
       "1  She's out of my life  \\r\\nShe's out of my life...  \n",
       "2  (kirsty maccoll)  \\r\\nYou've been around for s...  \n",
       "3  Here we go again, it's Monday at last,  \\r\\nHe...  \n",
       "4  Don't want to be an American idiot.  \\r\\nDon't...  "
      ]
     },
     "execution_count": 5,
     "metadata": {},
     "output_type": "execute_result"
    }
   ],
   "source": [
    "df =df.sample(5000).drop('link', axis=1).reset_index(drop=True)\n",
    "df.head()"
   ]
  },
  {
   "cell_type": "markdown",
   "metadata": {},
   "source": [
    "Now lets look at the 'text' attribute more closely.."
   ]
  },
  {
   "cell_type": "code",
   "execution_count": 6,
   "metadata": {},
   "outputs": [
    {
     "data": {
      "text/plain": [
       "\"I know the Lord, will make a way  \\r\\nHe will make a way, yes he will  \\r\\nYes, he will  \\r\\n  \\r\\nOh, I do believe that we will make it  \\r\\nYeah, yeah, yeah, yeah  \\r\\n  \\r\\nUh uh  \\r\\nI was at rock bottom, my whole life was mo' problems  \\r\\nReincarnation of a slave pickin' cotton  \\r\\nStress beamin' down like the sun I felt rotten  \\r\\nTo the core, was at war, cause the enemy is plottin'  \\r\\nI hear him knockin', sayin' that we got him  \\r\\nHot like solar, he wanna burn my soul up  \\r\\nWorld on my shoulders but I roll back ya boulders  \\r\\nWords have a funny way of comin back to scold ya  \\r\\nWatch what come out of your mouth, you crack a molar  \\r\\nI tried to told ya, he he he  \\r\\nEnemies gunnin', true believers ain't runnin'  \\r\\nOr duckin', we ain't scared of nothin', ya feel me?  \\r\\nThey wanna test me and press my buttons, oh really?  \\r\\nAllow Uncle L to hip y'all to somethin', uh, uh  \\r\\nYeah, uh, check it out  \\r\\nThere's a living power, make a man out a coward  \\r\\nRebuild your strength like the new Trade Towers  \\r\\nI thought that I was over, my life got devoured  \\r\\nNow I'm on top and I pray for all the doubters  \\r\\nTime to shout it, sing it louder  \\r\\n  \\r\\n[Chorus]  \\r\\nYeah, we're gonna make it  \\r\\nWe're gonna make it (we're gonna make it)  \\r\\nThank God we made it (yeah)  \\r\\nAnd I mean it, yeah yeah, oh yeah  \\r\\n  \\r\\nI was feelin' like my whole world was spinnin' and spillin'  \\r\\nOn the ground and that God wasn't willin'  \\r\\nIt seemed like the only ones ballin' was the villains  \\r\\nDollar signs in they eyes, lyin' to our chillin'  \\r\\nI wanna kill 'em, I'd rather God hit 'em  \\r\\nThey sellin' venom and we buyin' it like denim  \\r\\nThese world wide webs they weave, we caught in 'em  \\r\\nOld folks is dyin' and CEO's skimmin'  \\r\\nThe bat's in your hand and this is the 9th inning  \\r\\nKeep your eyes on the ball when you swingin'  \\r\\nDon't be confused, don't be fooled by the wind-up  \\r\\nStart switchin' your position, make your mind up  \\r\\nPull your bootstraps tight, get your grind up  \\r\\nGet your life lined up before time's up  \\r\\nYo, yo, you know what?  \\r\\nTake ten percent of that, dough you tryin' to stack  \\r\\nSend it up to God, I guarantee he send it back  \\r\\nMultiply it by a hundred times, y'all remember that  \\r\\nThat's just a little jewel to get the monkey off your back  \\r\\nUh, yeah, sing it out now  \\r\\n  \\r\\n[Chorus]  \\r\\n  \\r\\nIn the darkest valley, through the loneliest alley  \\r\\nNever give up, press on through the storm  \\r\\nWeepin' man fall, for the night seem long  \\r\\nBut if you stand strong joy come within the morn'  \\r\\nAnd it goes, on and on and on and on and on and-ah  \\r\\nI know it feels like your back's to the wall  \\r\\nWho's sittin' in the crib, and you don't know who to call  \\r\\n(Jesus!) Hangin' on a tight rope, fingers slippin' off  \\r\\nBut you ain't by yourself dog, we all been lost  \\r\\nStay on your course, carry your cross  \\r\\nAin't no stoppin', got to keep it poppin'  \\r\\nYou want it, you can get it, believe me the king did it  \\r\\nNothin' gonna hold you back, there's no limits  \\r\\nI'm sent to bring truth to rap, not gimmicks  \\r\\nAnd I'm not finished, man listen  \\r\\nHere's the moral to the thesis, y'all cats need Jesus  \\r\\nHe put your life back together, pick up the pieces  \\r\\nWord to the masses, I heard God asked us  \\r\\nFor less fake rappers, and more real pastors  \\r\\nUh-huh, uh-huh, so hereafter  \\r\\n  \\r\\n[Chorus: x2]  \\r\\n  \\r\\nWe made it, we made it  \\r\\nThrough the storm and rain, yeah  \\r\\nYou can make it, yes you can  \\r\\nYou can make it, you got me  \\r\\nI know you can, I know you can  \\r\\nI know you can, yes, yeah  \\r\\nI do believe we'll make it (Hallelujah!)  \\r\\n(Glory! Glory!)\\r\\n\\r\\n\""
      ]
     },
     "execution_count": 6,
     "metadata": {},
     "output_type": "execute_result"
    }
   ],
   "source": [
    "df[\"text\"][0]"
   ]
  },
  {
   "cell_type": "markdown",
   "metadata": {},
   "source": [
    "Here we can see that text contains impurities like '\\r', '\\n', etc..Hence we will be replacing it with blank spaces."
   ]
  },
  {
   "cell_type": "code",
   "execution_count": 7,
   "metadata": {},
   "outputs": [
    {
     "data": {
      "text/plain": [
       "\"I know the Lord, will make a way    He will make a way, yes he will    Yes, he will        Oh, I do believe that we will make it    Yeah, yeah, yeah, yeah        Uh uh    I was at rock bottom, my whole life was mo' problems    Reincarnation of a slave pickin' cotton    Stress beamin' down like the sun I felt rotten    To the core, was at war, cause the enemy is plottin'    I hear him knockin', sayin' that we got him    Hot like solar, he wanna burn my soul up    World on my shoulders but I roll back ya boulders    Words have a funny way of comin back to scold ya    Watch what come out of your mouth, you crack a molar    I tried to told ya, he he he    Enemies gunnin', true believers ain't runnin'    Or duckin', we ain't scared of nothin', ya feel me?    They wanna test me and press my buttons, oh really?    Allow Uncle L to hip y'all to somethin', uh, uh    Yeah, uh, check it out    There's a living power, make a man out a coward    Rebuild your strength like the new Trade Towers    I thought that I was over, my life got devoured    Now I'm on top and I pray for all the doubters    Time to shout it, sing it louder        [Chorus]    Yeah, we're gonna make it    We're gonna make it (we're gonna make it)    Thank God we made it (yeah)    And I mean it, yeah yeah, oh yeah        I was feelin' like my whole world was spinnin' and spillin'    On the ground and that God wasn't willin'    It seemed like the only ones ballin' was the villains    Dollar signs in they eyes, lyin' to our chillin'    I wanna kill 'em, I'd rather God hit 'em    They sellin' venom and we buyin' it like denim    These world wide webs they weave, we caught in 'em    Old folks is dyin' and CEO's skimmin'    The bat's in your hand and this is the 9th inning    Keep your eyes on the ball when you swingin'    Don't be confused, don't be fooled by the wind-up    Start switchin' your position, make your mind up    Pull your bootstraps tight, get your grind up    Get your life lined up before time's up    Yo, yo, you know what?    Take ten percent of that, dough you tryin' to stack    Send it up to God, I guarantee he send it back    Multiply it by a hundred times, y'all remember that    That's just a little jewel to get the monkey off your back    Uh, yeah, sing it out now        [Chorus]        In the darkest valley, through the loneliest alley    Never give up, press on through the storm    Weepin' man fall, for the night seem long    But if you stand strong joy come within the morn'    And it goes, on and on and on and on and on and-ah    I know it feels like your back's to the wall    Who's sittin' in the crib, and you don't know who to call    (Jesus!) Hangin' on a tight rope, fingers slippin' off    But you ain't by yourself dog, we all been lost    Stay on your course, carry your cross    Ain't no stoppin', got to keep it poppin'    You want it, you can get it, believe me the king did it    Nothin' gonna hold you back, there's no limits    I'm sent to bring truth to rap, not gimmicks    And I'm not finished, man listen    Here's the moral to the thesis, y'all cats need Jesus    He put your life back together, pick up the pieces    Word to the masses, I heard God asked us    For less fake rappers, and more real pastors    Uh-huh, uh-huh, so hereafter        [Chorus: x2]        We made it, we made it    Through the storm and rain, yeah    You can make it, yes you can    You can make it, you got me    I know you can, I know you can    I know you can, yes, yeah    I do believe we'll make it (Hallelujah!)    (Glory! Glory!)    \""
      ]
     },
     "execution_count": 7,
     "metadata": {},
     "output_type": "execute_result"
    }
   ],
   "source": [
    "df[\"text\"]=df[\"text\"].str.replace(r'\\r',' ',regex=True).replace(r'\\n',' ',regex=True)\n",
    "df[\"text\"][0]"
   ]
  },
  {
   "cell_type": "markdown",
   "metadata": {},
   "source": [
    "## MODEL BUILDING"
   ]
  },
  {
   "cell_type": "code",
   "execution_count": 8,
   "metadata": {},
   "outputs": [
    {
     "data": {
      "text/plain": [
       "array([1.        , 0.05552831, 0.14340649, ..., 0.02431756, 0.01847643,\n",
       "       0.06708269])"
      ]
     },
     "execution_count": 8,
     "metadata": {},
     "output_type": "execute_result"
    }
   ],
   "source": [
    "tfidvector = TfidfVectorizer(analyzer='word',stop_words='english')\n",
    "matrix = tfidvector.fit_transform(df['text'])\n",
    "similarity = cosine_similarity(matrix)\n",
    "similarity[0]"
   ]
  },
  {
   "cell_type": "markdown",
   "metadata": {},
   "source": [
    "We need to reduce the size of matrix for future purpose."
   ]
  },
  {
   "cell_type": "code",
   "execution_count": 9,
   "metadata": {},
   "outputs": [],
   "source": [
    "similarity=similarity.astype(np.float16)"
   ]
  },
  {
   "cell_type": "code",
   "execution_count": 10,
   "metadata": {},
   "outputs": [],
   "source": [
    "def recommendation(song_df):\n",
    "    index = df[df['song'] == song_df].index[0]\n",
    "    distances = sorted(list(enumerate(similarity[index])),reverse=True,key=lambda x:x[1])\n",
    "    songs = []\n",
    "    for m_id in distances[1:6]:\n",
    "        songs.append(df.iloc[m_id[0]].song)\n",
    "    return songs"
   ]
  },
  {
   "cell_type": "markdown",
   "metadata": {},
   "source": [
    "In the above function index of the input song is found and stored in index.An enumerator is used to keep track of indices of each elements using the (index,element) format.Enumerating is done to ensure that indices are preserved even after sorting.This is converted to a list and sorted based on the value x[1], i.e. the element."
   ]
  },
  {
   "cell_type": "markdown",
   "metadata": {},
   "source": [
    "Now lets try our function..."
   ]
  },
  {
   "cell_type": "code",
   "execution_count": 12,
   "metadata": {},
   "outputs": [
    {
     "data": {
      "text/plain": [
       "['Mr. Jones',\n",
       " \"Let's Work Together\",\n",
       " 'Get Up',\n",
       " 'Will Work For Love',\n",
       " 'Clock Goes Round']"
      ]
     },
     "execution_count": 12,
     "metadata": {},
     "output_type": "execute_result"
    }
   ],
   "source": [
    "recommendation(\"Smithers-Jones\")"
   ]
  },
  {
   "cell_type": "markdown",
   "metadata": {},
   "source": [
    "## SAVING OBJECTS AS PICKLE FILE"
   ]
  },
  {
   "cell_type": "code",
   "execution_count": 13,
   "metadata": {},
   "outputs": [],
   "source": [
    "pickle.dump(similarity,open('similarity.pkl','wb'))\n",
    "pickle.dump(df,open('df.pkl','wb'))"
   ]
  }
 ],
 "metadata": {
  "kernelspec": {
   "display_name": "Python 3",
   "language": "python",
   "name": "python3"
  },
  "language_info": {
   "codemirror_mode": {
    "name": "ipython",
    "version": 3
   },
   "file_extension": ".py",
   "mimetype": "text/x-python",
   "name": "python",
   "nbconvert_exporter": "python",
   "pygments_lexer": "ipython3",
   "version": "3.11.9"
  }
 },
 "nbformat": 4,
 "nbformat_minor": 2
}
